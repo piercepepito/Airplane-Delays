{
 "cells": [
  {
   "cell_type": "markdown",
   "metadata": {},
   "source": [
    "## Wrangle it up!\n",
    "\n",
    "This notebook will only focus on cleaning up the data, and creating a file that would be used for analysis."
   ]
  },
  {
   "cell_type": "code",
   "execution_count": 1,
   "metadata": {
    "ExecuteTime": {
     "end_time": "2021-06-08T13:48:10.786877Z",
     "start_time": "2021-06-08T13:48:10.391128Z"
    }
   },
   "outputs": [],
   "source": [
    "#load libraries\n",
    "import pandas as pd \n",
    "import numpy as np"
   ]
  },
  {
   "cell_type": "code",
   "execution_count": 2,
   "metadata": {
    "ExecuteTime": {
     "end_time": "2021-06-08T13:48:47.006242Z",
     "start_time": "2021-06-08T13:48:10.790595Z"
    }
   },
   "outputs": [],
   "source": [
    "#load all the csv files\n",
    "jan = pd.read_csv(\"airlines/january_2019.csv\")\n",
    "feb = pd.read_csv(\"airlines/february_2019.csv\")\n",
    "mar = pd.read_csv(\"airlines/march_2019.csv\")\n",
    "apr = pd.read_csv(\"airlines/april_2019.csv\")\n",
    "may = pd.read_csv(\"airlines/may_2019.csv\")\n",
    "jun = pd.read_csv(\"airlines/june_2019.csv\")\n",
    "jul = pd.read_csv(\"airlines/july_2019.csv\")\n",
    "aug = pd.read_csv(\"airlines/august_2019.csv\")\n",
    "sep = pd.read_csv(\"airlines/september_2019.csv\")\n",
    "october = pd.read_csv(\"airlines/october_2019.csv\")\n",
    "nov = pd.read_csv(\"airlines/november_2019.csv\")\n",
    "dec = pd.read_csv(\"airlines/december_2019.csv\")\n",
    "\n",
    "#reference tables\n",
    "operating_airline = pd.read_csv(\"operating_airline.csv\") #airline code to name of airline\n",
    "\n",
    "cancellation_code = pd.read_csv(\"cancellation_code.csv\")\n",
    "cancellation_code.iloc[-1] = [\"None\", \"Did Not Cancel\"]\n",
    "cancellation_code.columns = [\"CANCELLATION_CODE\",\"CANCELLATION_DESCRIPTION\"]\n",
    "\n",
    "airport_id = pd.read_csv(\"airport_id.csv\")\n",
    "airport_id[\"AIRPORT_NAME\"] = airport_id[\"Description\"].str.split(\":\", expand = True)[1]\n",
    "\n",
    "#concatenate into a single dataframe\n",
    "df = pd.concat([jan, feb, mar, apr, may, jun, jul, aug, sep, october, nov, dec])"
   ]
  },
  {
   "cell_type": "markdown",
   "metadata": {},
   "source": [
    "## Column Descriptions\n",
    "\n",
    "1. FL_DATE = Flight date (yyyymmdd)\n",
    "2. OP_UNIQUE_CARRIER = Operating Airline Code. Use operating_airline.csv to find the airline name \n",
    "3. OP_CARRIER_FL_NUM = Flight number operating airline\n",
    "4. ORIGIN_AIRPORT_ID = Origin Airport, Airport ID\n",
    "5. ORIGIN = Origin Airport\n",
    "6. ORIGIN_CITY_NAME = Origin City Name\n",
    "7. DEST_AIRPORT_ID = Destination Airport, Airport ID\n",
    "8. DEST = Destination airport\n",
    "9. DEST_CITY_NAME = Destination City Name\n",
    "10. CRS_DEP_TIME = PLANNED departure time (local time: hhmm)\n",
    "11. DEP_TIME = ACTUAL departure time (local time: hhmm)\n",
    "12. DEP_DELAY = Difference in minutes between actual and planned departure time.\n",
    "13. DEP_DELAY_NEW = Difference in minutes, but all early departed flights are set to 0\n",
    "14. DEP_DEL15 = Departure delay indicator, 15 minutes or more\n",
    "15. DEP_DEL_GROUP = Departure delay intervals, every 15 minutes\n",
    "14. CRS_ARR_TIME = PLANNED arrival time (local time: hhmm)\n",
    "15. ARR_TIME = ACTUAL arrival time (local time: hhmm)\n",
    "16. ARR_DELAY = Difference in minutes between actual and planned arrival time.\n",
    "17. ARR_DELAY_NEW = Difference in minutes, but all early arrived flights are set to 0\n",
    "18. ARR_DEL15 = Arrival delay indicator, 15 minutes or more\n",
    "19. CANCELLED = Cancelled flight indicator\n",
    "20. CANCELLATION_CODE = Specifies the reason for cancelation\n",
    "21. DIVERTED = Diverted flight indicator\n",
    "22. DUP = Duplicate, if the flight has been swapped\n",
    "23. CRS_ELAPSED_TIME = CRS elapsed time of flight\n",
    "23. ACTUAL_ELAPSED_TIME = Elapsed time of flight in minutes\n",
    "24. AIR_TIME = flight time in minutes\n",
    "25. FLIGHTS = Number of flights\n",
    "26. DISTANCE = Distance between airports\n",
    "27. DISTANCE GROUP = Distance intervals, for Flight Segment\n",
    "28. CARRIER_DELAY = Carrier delay, in minutes\n",
    "29. WEATHER_DELAY = Weather delay, in minutes\n",
    "30. NAS_DELAY = Natoinal air system delay, in minutes\n",
    "31. SECURITY_DELAY = Security delay, in minutes\n",
    "32. LATE_AIRCRAFT_DELAY = Late aircraft delay, in minutes\n",
    "33. DIV_AIRPORT_LANDINGS = Number of diverted landings"
   ]
  },
  {
   "cell_type": "markdown",
   "metadata": {},
   "source": [
    "# Data Cleaning\n",
    "\n",
    "The following will be done to clean up the data:\n",
    "1. Check for missing data\n",
    "2. Understand why some of the data is missing\n",
    "3. Fill in missing data\n",
    "4. Adding in features."
   ]
  },
  {
   "cell_type": "code",
   "execution_count": 3,
   "metadata": {
    "ExecuteTime": {
     "end_time": "2021-06-08T13:48:56.573464Z",
     "start_time": "2021-06-08T13:48:47.006242Z"
    }
   },
   "outputs": [
    {
     "data": {
      "text/plain": [
       "FL_DATE                  0.000000\n",
       "OP_UNIQUE_CARRIER        0.000000\n",
       "OP_CARRIER_FL_NUM        0.000000\n",
       "ORIGIN_AIRPORT_ID        0.000000\n",
       "ORIGIN                   0.000000\n",
       "ORIGIN_CITY_NAME         0.000000\n",
       "DEST_AIRPORT_ID          0.000000\n",
       "DEST                     0.000000\n",
       "DEST_CITY_NAME           0.000000\n",
       "CRS_DEP_TIME             0.000000\n",
       "DEP_TIME                 1.827728\n",
       "DEP_DELAY                1.828025\n",
       "DEP_DELAY_NEW            1.828025\n",
       "DEP_DEL15                1.828025\n",
       "DEP_DELAY_GROUP          1.828025\n",
       "CRS_ARR_TIME             0.000000\n",
       "ARR_TIME                 1.939226\n",
       "ARR_DELAY                2.155546\n",
       "ARR_DELAY_NEW            2.155546\n",
       "ARR_DEL15                2.155546\n",
       "ARR_DELAY_GROUP          2.155546\n",
       "CANCELLED                0.000000\n",
       "CANCELLATION_CODE       98.101396\n",
       "DIVERTED                 0.000000\n",
       "DUP                      0.000000\n",
       "CRS_ELAPSED_TIME         0.000124\n",
       "ACTUAL_ELAPSED_TIME      2.155546\n",
       "AIR_TIME                 2.155546\n",
       "FLIGHTS                  0.000000\n",
       "DISTANCE                 0.000000\n",
       "DISTANCE_GROUP           0.000000\n",
       "CARRIER_DELAY           81.123151\n",
       "WEATHER_DELAY           81.123151\n",
       "NAS_DELAY               81.123151\n",
       "SECURITY_DELAY          81.123151\n",
       "LATE_AIRCRAFT_DELAY     81.123151\n",
       "Unnamed: 36            100.000000\n",
       "dtype: float64"
      ]
     },
     "execution_count": 3,
     "metadata": {},
     "output_type": "execute_result"
    }
   ],
   "source": [
    "#check for missing values\n",
    "df.isnull().sum()*100/len(df)"
   ]
  },
  {
   "cell_type": "markdown",
   "metadata": {},
   "source": [
    "Observations:\n",
    "\n",
    "1. A large majority of the missing data is coming from features that are related to cancellation of flights(CANCELLATION_CODE, CARRIER_DELAY, WEATHER_DELAY, NAS_DELAY, SECURTY_DELAY, AIRCRAFT_DELAY). The reason for the missing data is most likely because the flights didn't get delayed.\n",
    "2. Unnamed: 36 doesn't hold any information and can be deleted.\n",
    "3. Departure and Arrival features also have missing data, but are all less than 5%. \n",
    "\n",
    "Next thing to do would be to first delete \"Unnamed: 36\" column and then try to check on the missing data and find any patterns. Once patterns have been set, fill in the missing values."
   ]
  },
  {
   "cell_type": "markdown",
   "metadata": {},
   "source": [
    "## Delete Unnecessary Columns"
   ]
  },
  {
   "cell_type": "code",
   "execution_count": 4,
   "metadata": {
    "ExecuteTime": {
     "end_time": "2021-06-08T13:48:57.408579Z",
     "start_time": "2021-06-08T13:48:56.577431Z"
    }
   },
   "outputs": [],
   "source": [
    "#delete as it does not have anything inside\n",
    "del df[\"Unnamed: 36\"]"
   ]
  },
  {
   "cell_type": "markdown",
   "metadata": {},
   "source": [
    "## Understand Missing Data"
   ]
  },
  {
   "cell_type": "code",
   "execution_count": 5,
   "metadata": {
    "ExecuteTime": {
     "end_time": "2021-06-08T13:48:57.532191Z",
     "start_time": "2021-06-08T13:48:57.412315Z"
    }
   },
   "outputs": [
    {
     "data": {
      "text/html": [
       "<div>\n",
       "<style scoped>\n",
       "    .dataframe tbody tr th:only-of-type {\n",
       "        vertical-align: middle;\n",
       "    }\n",
       "\n",
       "    .dataframe tbody tr th {\n",
       "        vertical-align: top;\n",
       "    }\n",
       "\n",
       "    .dataframe thead th {\n",
       "        text-align: right;\n",
       "    }\n",
       "</style>\n",
       "<table border=\"1\" class=\"dataframe\">\n",
       "  <thead>\n",
       "    <tr style=\"text-align: right;\">\n",
       "      <th></th>\n",
       "      <th>CRS_DEP_TIME</th>\n",
       "      <th>DEP_TIME</th>\n",
       "      <th>DEP_DELAY</th>\n",
       "      <th>DEP_DELAY_NEW</th>\n",
       "      <th>DEP_DEL15</th>\n",
       "    </tr>\n",
       "  </thead>\n",
       "  <tbody>\n",
       "    <tr>\n",
       "      <th>572355</th>\n",
       "      <td>2121</td>\n",
       "      <td>NaN</td>\n",
       "      <td>NaN</td>\n",
       "      <td>NaN</td>\n",
       "      <td>NaN</td>\n",
       "    </tr>\n",
       "    <tr>\n",
       "      <th>50871</th>\n",
       "      <td>910</td>\n",
       "      <td>NaN</td>\n",
       "      <td>NaN</td>\n",
       "      <td>NaN</td>\n",
       "      <td>NaN</td>\n",
       "    </tr>\n",
       "    <tr>\n",
       "      <th>533951</th>\n",
       "      <td>745</td>\n",
       "      <td>NaN</td>\n",
       "      <td>NaN</td>\n",
       "      <td>NaN</td>\n",
       "      <td>NaN</td>\n",
       "    </tr>\n",
       "    <tr>\n",
       "      <th>68552</th>\n",
       "      <td>905</td>\n",
       "      <td>NaN</td>\n",
       "      <td>NaN</td>\n",
       "      <td>NaN</td>\n",
       "      <td>NaN</td>\n",
       "    </tr>\n",
       "    <tr>\n",
       "      <th>282700</th>\n",
       "      <td>1115</td>\n",
       "      <td>NaN</td>\n",
       "      <td>NaN</td>\n",
       "      <td>NaN</td>\n",
       "      <td>NaN</td>\n",
       "    </tr>\n",
       "  </tbody>\n",
       "</table>\n",
       "</div>"
      ],
      "text/plain": [
       "        CRS_DEP_TIME  DEP_TIME  DEP_DELAY  DEP_DELAY_NEW  DEP_DEL15\n",
       "572355          2121       NaN        NaN            NaN        NaN\n",
       "50871            910       NaN        NaN            NaN        NaN\n",
       "533951           745       NaN        NaN            NaN        NaN\n",
       "68552            905       NaN        NaN            NaN        NaN\n",
       "282700          1115       NaN        NaN            NaN        NaN"
      ]
     },
     "execution_count": 5,
     "metadata": {},
     "output_type": "execute_result"
    }
   ],
   "source": [
    "df[df[\"DEP_TIME\"].isnull()][[\"CRS_DEP_TIME\", \"DEP_TIME\", \"DEP_DELAY\", \"DEP_DELAY_NEW\", \"DEP_DEL15\"]].sample(5)"
   ]
  },
  {
   "cell_type": "markdown",
   "metadata": {},
   "source": [
    "The 5 random samples where DEP_TIME is missing, it shows that \"DEP_DELAY\", \"DEP_DELAY_NEW\" and \"DEP_DEL15\" are cannot be found as well. In thise case, \"DEP_TIME\" will asume to have departed on time (DEP_TIME = CRS_DEP_TIME). For the rest of the missing columns, they will all be filled with 0, as it assumes that all flights with missing data have departed on time."
   ]
  },
  {
   "cell_type": "markdown",
   "metadata": {},
   "source": [
    "### Departed and Arrived Flights"
   ]
  },
  {
   "cell_type": "code",
   "execution_count": 6,
   "metadata": {
    "ExecuteTime": {
     "end_time": "2021-06-08T13:49:00.016862Z",
     "start_time": "2021-06-08T13:48:57.532191Z"
    }
   },
   "outputs": [],
   "source": [
    "#fill in departure performance columns\n",
    "df[\"DEP_TIME\"] = df[\"DEP_TIME\"].fillna(df[\"CRS_DEP_TIME\"]).astype(\"int\") \n",
    "df[\"DEP_DELAY\"] = df[\"DEP_DELAY\"].fillna(0)\n",
    "df[\"DEP_DELAY_NEW\"] = df[\"DEP_DELAY_NEW\"].fillna(0)\n",
    "df[\"DEP_DEL15\"] = df[\"ARR_DEL15\"].fillna(0)\n",
    "\n",
    "#fill in departure performance columns\n",
    "df[\"ARR_TIME\"] = df[\"ARR_TIME\"].fillna(df[\"CRS_ARR_TIME\"]).astype(\"int\")\n",
    "df[\"ARR_DELAY\"] = df[\"ARR_DELAY\"].fillna(0)\n",
    "df[\"ARR_DELAY_NEW\"] = df[\"ARR_DELAY_NEW\"].fillna(0)\n",
    "df[\"ARR_DEL15\"] = df[\"ARR_DEL15\"].fillna(0)"
   ]
  },
  {
   "cell_type": "markdown",
   "metadata": {},
   "source": [
    "### Cancelled Flights"
   ]
  },
  {
   "cell_type": "code",
   "execution_count": 7,
   "metadata": {
    "ExecuteTime": {
     "end_time": "2021-06-08T13:49:02.305779Z",
     "start_time": "2021-06-08T13:49:00.016862Z"
    }
   },
   "outputs": [
    {
     "data": {
      "text/plain": [
       "0.0    7938055\n",
       "Name: CANCELLED, dtype: int64"
      ]
     },
     "execution_count": 7,
     "metadata": {},
     "output_type": "execute_result"
    }
   ],
   "source": [
    "df[df[\"CANCELLATION_CODE\"].isnull() == True][\"CANCELLED\"].value_counts()"
   ]
  },
  {
   "cell_type": "markdown",
   "metadata": {},
   "source": [
    "The 0 value means that the flight hasn't been cancelled. This shows that the cancelled flights would only reflect when the value of the cancelled column is equal to 1."
   ]
  },
  {
   "cell_type": "code",
   "execution_count": 8,
   "metadata": {
    "ExecuteTime": {
     "end_time": "2021-06-08T13:49:02.701277Z",
     "start_time": "2021-06-08T13:49:02.305779Z"
    }
   },
   "outputs": [],
   "source": [
    "#fill in cancellation code with None\n",
    "df[\"CANCELLATION_CODE\"] = df[\"CANCELLATION_CODE\"].fillna(\"None\")"
   ]
  },
  {
   "cell_type": "markdown",
   "metadata": {},
   "source": [
    "Filled in missing values of cancellation code to \"None\" to signify that the flight hasn't been cancelled."
   ]
  },
  {
   "cell_type": "code",
   "execution_count": 9,
   "metadata": {
    "ExecuteTime": {
     "end_time": "2021-06-08T13:49:04.790459Z",
     "start_time": "2021-06-08T13:49:02.701277Z"
    }
   },
   "outputs": [
    {
     "data": {
      "text/html": [
       "<div>\n",
       "<style scoped>\n",
       "    .dataframe tbody tr th:only-of-type {\n",
       "        vertical-align: middle;\n",
       "    }\n",
       "\n",
       "    .dataframe tbody tr th {\n",
       "        vertical-align: top;\n",
       "    }\n",
       "\n",
       "    .dataframe thead th {\n",
       "        text-align: right;\n",
       "    }\n",
       "</style>\n",
       "<table border=\"1\" class=\"dataframe\">\n",
       "  <thead>\n",
       "    <tr style=\"text-align: right;\">\n",
       "      <th></th>\n",
       "      <th>DEP_DEL15</th>\n",
       "      <th>ARR_DEL15</th>\n",
       "      <th>CARRIER_DELAY</th>\n",
       "      <th>WEATHER_DELAY</th>\n",
       "      <th>NAS_DELAY</th>\n",
       "      <th>SECURITY_DELAY</th>\n",
       "      <th>LATE_AIRCRAFT_DELAY</th>\n",
       "    </tr>\n",
       "  </thead>\n",
       "  <tbody>\n",
       "    <tr>\n",
       "      <th>572069</th>\n",
       "      <td>0.0</td>\n",
       "      <td>0.0</td>\n",
       "      <td>NaN</td>\n",
       "      <td>NaN</td>\n",
       "      <td>NaN</td>\n",
       "      <td>NaN</td>\n",
       "      <td>NaN</td>\n",
       "    </tr>\n",
       "    <tr>\n",
       "      <th>46603</th>\n",
       "      <td>0.0</td>\n",
       "      <td>0.0</td>\n",
       "      <td>NaN</td>\n",
       "      <td>NaN</td>\n",
       "      <td>NaN</td>\n",
       "      <td>NaN</td>\n",
       "      <td>NaN</td>\n",
       "    </tr>\n",
       "    <tr>\n",
       "      <th>256415</th>\n",
       "      <td>0.0</td>\n",
       "      <td>0.0</td>\n",
       "      <td>NaN</td>\n",
       "      <td>NaN</td>\n",
       "      <td>NaN</td>\n",
       "      <td>NaN</td>\n",
       "      <td>NaN</td>\n",
       "    </tr>\n",
       "    <tr>\n",
       "      <th>208242</th>\n",
       "      <td>0.0</td>\n",
       "      <td>0.0</td>\n",
       "      <td>NaN</td>\n",
       "      <td>NaN</td>\n",
       "      <td>NaN</td>\n",
       "      <td>NaN</td>\n",
       "      <td>NaN</td>\n",
       "    </tr>\n",
       "    <tr>\n",
       "      <th>619362</th>\n",
       "      <td>0.0</td>\n",
       "      <td>0.0</td>\n",
       "      <td>NaN</td>\n",
       "      <td>NaN</td>\n",
       "      <td>NaN</td>\n",
       "      <td>NaN</td>\n",
       "      <td>NaN</td>\n",
       "    </tr>\n",
       "    <tr>\n",
       "      <th>520248</th>\n",
       "      <td>0.0</td>\n",
       "      <td>0.0</td>\n",
       "      <td>NaN</td>\n",
       "      <td>NaN</td>\n",
       "      <td>NaN</td>\n",
       "      <td>NaN</td>\n",
       "      <td>NaN</td>\n",
       "    </tr>\n",
       "    <tr>\n",
       "      <th>236521</th>\n",
       "      <td>0.0</td>\n",
       "      <td>0.0</td>\n",
       "      <td>NaN</td>\n",
       "      <td>NaN</td>\n",
       "      <td>NaN</td>\n",
       "      <td>NaN</td>\n",
       "      <td>NaN</td>\n",
       "    </tr>\n",
       "    <tr>\n",
       "      <th>443078</th>\n",
       "      <td>0.0</td>\n",
       "      <td>0.0</td>\n",
       "      <td>NaN</td>\n",
       "      <td>NaN</td>\n",
       "      <td>NaN</td>\n",
       "      <td>NaN</td>\n",
       "      <td>NaN</td>\n",
       "    </tr>\n",
       "    <tr>\n",
       "      <th>551900</th>\n",
       "      <td>0.0</td>\n",
       "      <td>0.0</td>\n",
       "      <td>NaN</td>\n",
       "      <td>NaN</td>\n",
       "      <td>NaN</td>\n",
       "      <td>NaN</td>\n",
       "      <td>NaN</td>\n",
       "    </tr>\n",
       "    <tr>\n",
       "      <th>592458</th>\n",
       "      <td>0.0</td>\n",
       "      <td>0.0</td>\n",
       "      <td>NaN</td>\n",
       "      <td>NaN</td>\n",
       "      <td>NaN</td>\n",
       "      <td>NaN</td>\n",
       "      <td>NaN</td>\n",
       "    </tr>\n",
       "  </tbody>\n",
       "</table>\n",
       "</div>"
      ],
      "text/plain": [
       "        DEP_DEL15  ARR_DEL15  CARRIER_DELAY  WEATHER_DELAY  NAS_DELAY  \\\n",
       "572069        0.0        0.0            NaN            NaN        NaN   \n",
       "46603         0.0        0.0            NaN            NaN        NaN   \n",
       "256415        0.0        0.0            NaN            NaN        NaN   \n",
       "208242        0.0        0.0            NaN            NaN        NaN   \n",
       "619362        0.0        0.0            NaN            NaN        NaN   \n",
       "520248        0.0        0.0            NaN            NaN        NaN   \n",
       "236521        0.0        0.0            NaN            NaN        NaN   \n",
       "443078        0.0        0.0            NaN            NaN        NaN   \n",
       "551900        0.0        0.0            NaN            NaN        NaN   \n",
       "592458        0.0        0.0            NaN            NaN        NaN   \n",
       "\n",
       "        SECURITY_DELAY  LATE_AIRCRAFT_DELAY  \n",
       "572069             NaN                  NaN  \n",
       "46603              NaN                  NaN  \n",
       "256415             NaN                  NaN  \n",
       "208242             NaN                  NaN  \n",
       "619362             NaN                  NaN  \n",
       "520248             NaN                  NaN  \n",
       "236521             NaN                  NaN  \n",
       "443078             NaN                  NaN  \n",
       "551900             NaN                  NaN  \n",
       "592458             NaN                  NaN  "
      ]
     },
     "execution_count": 9,
     "metadata": {},
     "output_type": "execute_result"
    }
   ],
   "source": [
    "df[df[\"CARRIER_DELAY\"].isnull() == True][[\"DEP_DEL15\", \"ARR_DEL15\", \"CARRIER_DELAY\", \"WEATHER_DELAY\",\"NAS_DELAY\", \"SECURITY_DELAY\", \"LATE_AIRCRAFT_DELAY\"]].sample(10)"
   ]
  },
  {
   "cell_type": "markdown",
   "metadata": {},
   "source": [
    "Sample set of missing \"CARRIER_DELAY\" data, shows that both departure and arrival columns didn't get delayed. Then assume that all delay features will be at 0."
   ]
  },
  {
   "cell_type": "code",
   "execution_count": 10,
   "metadata": {
    "ExecuteTime": {
     "end_time": "2021-06-08T13:49:05.529498Z",
     "start_time": "2021-06-08T13:49:04.790459Z"
    }
   },
   "outputs": [],
   "source": [
    "#fill in missing values from delay parameters to 0 as they assume to have 0 to very little delay( <15 minutes)\n",
    "df[[\"CARRIER_DELAY\", \"WEATHER_DELAY\", \"NAS_DELAY\", \"SECURITY_DELAY\", \"LATE_AIRCRAFT_DELAY\"]] = df[[\"CARRIER_DELAY\", \"WEATHER_DELAY\", \"NAS_DELAY\", \"SECURITY_DELAY\", \"LATE_AIRCRAFT_DELAY\"]].fillna(0)"
   ]
  },
  {
   "cell_type": "markdown",
   "metadata": {},
   "source": [
    "## Turn Date columns into Datetime\n",
    "\n",
    "Now all the columns have been cleaned up, turn the necessary columns into datetime."
   ]
  },
  {
   "cell_type": "code",
   "execution_count": 11,
   "metadata": {
    "ExecuteTime": {
     "end_time": "2021-06-08T13:49:05.932933Z",
     "start_time": "2021-06-08T13:49:05.529498Z"
    }
   },
   "outputs": [
    {
     "data": {
      "text/html": [
       "<div>\n",
       "<style scoped>\n",
       "    .dataframe tbody tr th:only-of-type {\n",
       "        vertical-align: middle;\n",
       "    }\n",
       "\n",
       "    .dataframe tbody tr th {\n",
       "        vertical-align: top;\n",
       "    }\n",
       "\n",
       "    .dataframe thead th {\n",
       "        text-align: right;\n",
       "    }\n",
       "</style>\n",
       "<table border=\"1\" class=\"dataframe\">\n",
       "  <thead>\n",
       "    <tr style=\"text-align: right;\">\n",
       "      <th></th>\n",
       "      <th>CRS_DEP_TIME</th>\n",
       "      <th>CRS_ARR_TIME</th>\n",
       "    </tr>\n",
       "  </thead>\n",
       "  <tbody>\n",
       "    <tr>\n",
       "      <th>75542</th>\n",
       "      <td>1150</td>\n",
       "      <td>1750</td>\n",
       "    </tr>\n",
       "    <tr>\n",
       "      <th>198663</th>\n",
       "      <td>1817</td>\n",
       "      <td>2010</td>\n",
       "    </tr>\n",
       "    <tr>\n",
       "      <th>185493</th>\n",
       "      <td>857</td>\n",
       "      <td>1028</td>\n",
       "    </tr>\n",
       "    <tr>\n",
       "      <th>672553</th>\n",
       "      <td>1155</td>\n",
       "      <td>1515</td>\n",
       "    </tr>\n",
       "    <tr>\n",
       "      <th>292639</th>\n",
       "      <td>1228</td>\n",
       "      <td>1326</td>\n",
       "    </tr>\n",
       "  </tbody>\n",
       "</table>\n",
       "</div>"
      ],
      "text/plain": [
       "        CRS_DEP_TIME  CRS_ARR_TIME\n",
       "75542           1150          1750\n",
       "198663          1817          2010\n",
       "185493           857          1028\n",
       "672553          1155          1515\n",
       "292639          1228          1326"
      ]
     },
     "execution_count": 11,
     "metadata": {},
     "output_type": "execute_result"
    }
   ],
   "source": [
    "df[[\"CRS_DEP_TIME\", \"CRS_ARR_TIME\"]].sample(5)"
   ]
  },
  {
   "cell_type": "markdown",
   "metadata": {},
   "source": [
    "CRS_DEP_TIME and CRS_ARR_TIME are in an integer format, and uses military time."
   ]
  },
  {
   "cell_type": "code",
   "execution_count": 12,
   "metadata": {
    "ExecuteTime": {
     "end_time": "2021-06-08T13:49:17.337725Z",
     "start_time": "2021-06-08T13:49:05.932933Z"
    }
   },
   "outputs": [
    {
     "data": {
      "text/html": [
       "<div>\n",
       "<style scoped>\n",
       "    .dataframe tbody tr th:only-of-type {\n",
       "        vertical-align: middle;\n",
       "    }\n",
       "\n",
       "    .dataframe tbody tr th {\n",
       "        vertical-align: top;\n",
       "    }\n",
       "\n",
       "    .dataframe thead th {\n",
       "        text-align: right;\n",
       "    }\n",
       "</style>\n",
       "<table border=\"1\" class=\"dataframe\">\n",
       "  <thead>\n",
       "    <tr style=\"text-align: right;\">\n",
       "      <th></th>\n",
       "      <th>CRS_DEP_TIME</th>\n",
       "      <th>CRS_ARR_TIME</th>\n",
       "    </tr>\n",
       "  </thead>\n",
       "  <tbody>\n",
       "    <tr>\n",
       "      <th>72718</th>\n",
       "      <td>2140</td>\n",
       "      <td>10</td>\n",
       "    </tr>\n",
       "    <tr>\n",
       "      <th>77151</th>\n",
       "      <td>2110</td>\n",
       "      <td>8</td>\n",
       "    </tr>\n",
       "    <tr>\n",
       "      <th>603123</th>\n",
       "      <td>45</td>\n",
       "      <td>515</td>\n",
       "    </tr>\n",
       "    <tr>\n",
       "      <th>214428</th>\n",
       "      <td>2231</td>\n",
       "      <td>44</td>\n",
       "    </tr>\n",
       "    <tr>\n",
       "      <th>425377</th>\n",
       "      <td>2314</td>\n",
       "      <td>7</td>\n",
       "    </tr>\n",
       "    <tr>\n",
       "      <th>655753</th>\n",
       "      <td>2140</td>\n",
       "      <td>5</td>\n",
       "    </tr>\n",
       "    <tr>\n",
       "      <th>186559</th>\n",
       "      <td>2233</td>\n",
       "      <td>15</td>\n",
       "    </tr>\n",
       "    <tr>\n",
       "      <th>63485</th>\n",
       "      <td>2146</td>\n",
       "      <td>38</td>\n",
       "    </tr>\n",
       "    <tr>\n",
       "      <th>501278</th>\n",
       "      <td>2215</td>\n",
       "      <td>39</td>\n",
       "    </tr>\n",
       "    <tr>\n",
       "      <th>406241</th>\n",
       "      <td>2000</td>\n",
       "      <td>30</td>\n",
       "    </tr>\n",
       "  </tbody>\n",
       "</table>\n",
       "</div>"
      ],
      "text/plain": [
       "        CRS_DEP_TIME  CRS_ARR_TIME\n",
       "72718           2140            10\n",
       "77151           2110             8\n",
       "603123            45           515\n",
       "214428          2231            44\n",
       "425377          2314             7\n",
       "655753          2140             5\n",
       "186559          2233            15\n",
       "63485           2146            38\n",
       "501278          2215            39\n",
       "406241          2000            30"
      ]
     },
     "execution_count": 12,
     "metadata": {},
     "output_type": "execute_result"
    }
   ],
   "source": [
    "df[(df[\"CRS_DEP_TIME\"].astype(\"str\").str.len() < 3) | (df[\"CRS_ARR_TIME\"].astype(\"str\").str.len() < 3) ][[\"CRS_DEP_TIME\", \"CRS_ARR_TIME\"]].sample(10)"
   ]
  },
  {
   "cell_type": "markdown",
   "metadata": {},
   "source": [
    "Apparently, there are instances in the dataset where there are only 2 digits or less, this will be assumed that these times are just after midnight. "
   ]
  },
  {
   "cell_type": "code",
   "execution_count": 13,
   "metadata": {
    "ExecuteTime": {
     "end_time": "2021-06-08T13:49:28.474821Z",
     "start_time": "2021-06-08T13:49:17.337725Z"
    }
   },
   "outputs": [
    {
     "data": {
      "text/plain": [
       "(0, 36)"
      ]
     },
     "execution_count": 13,
     "metadata": {},
     "output_type": "execute_result"
    }
   ],
   "source": [
    "df[(df[\"CRS_DEP_TIME\"].astype(\"str\").str.len() > 4) | (df[\"CRS_ARR_TIME\"].astype(\"str\").str.len() > 4)].shape"
   ]
  },
  {
   "cell_type": "markdown",
   "metadata": {},
   "source": [
    "Any digits that are more than 5 does not exist, then we assume that there is no error under these columns."
   ]
  },
  {
   "cell_type": "code",
   "execution_count": 14,
   "metadata": {
    "ExecuteTime": {
     "end_time": "2021-06-08T13:49:29.105977Z",
     "start_time": "2021-06-08T13:49:28.474821Z"
    }
   },
   "outputs": [],
   "source": [
    "#create datetime columns and convert string into datetime dtype\n",
    "def int_to_time(time):\n",
    "    if len(time) == 1: #if there's only a single digit\n",
    "        normal_len = str(0) + str(0) + str(0) + time\n",
    "        return normal_len[:2] + \":\" + normal_len[2:] + \":\" + \"00\"\n",
    "    \n",
    "    elif len(time) == 2:\n",
    "        normal_len = str(0) + str(0) + time\n",
    "        return normal_len[:2] + \":\" + normal_len[2:] + \":\" + \"00\"\n",
    "    \n",
    "    elif len(time) == 3:\n",
    "        normal_len =  str(0) + time\n",
    "        return normal_len[:2] + \":\" + normal_len[2:] + \":\" + \"00\"\n",
    "    \n",
    "    else: return time[:2] + \":\" + time[2:] + \":\" + \"00\" #if there are 4 digits"
   ]
  },
  {
   "cell_type": "markdown",
   "metadata": {},
   "source": [
    "In order to turn the time column, which is an integer dtype, into a date dtype is to transform the format from xxxx to hh:mm:ss. Since the length of the time column comes into two forms: which is 3 and 4 (example: 340 and 1229) then these will be pre-processed differently.\n",
    "\n",
    "1. Count length of digits\n",
    "    1. When length = 1: add in 000 at the start of the string\n",
    "    2. When length = 2: add in 00 at the start of the string\n",
    "    3. When length = 3: add in 0 at the start of the string\n",
    "    4. When length = 4: add nothing in the string\n",
    "2. Then add in a \":\" mark after every 2 characters\n",
    "3. After the second \":\" mark, add in \"00\" to signify seconds"
   ]
  },
  {
   "cell_type": "code",
   "execution_count": 15,
   "metadata": {
    "ExecuteTime": {
     "end_time": "2021-06-08T13:50:48.313604Z",
     "start_time": "2021-06-08T13:49:29.105977Z"
    }
   },
   "outputs": [],
   "source": [
    "#departure \n",
    "#crs\n",
    "df[\"CRS_DEP_TIME\"] = df[\"CRS_DEP_TIME\"].astype(\"str\").apply(int_to_time)\n",
    "\n",
    "df[\"CRS_DEP_DATE\"] = pd.to_datetime(df[\"FL_DATE\"]) + pd.to_timedelta(df[\"CRS_DEP_TIME\"])\n",
    "df[\"CRS_DEP_MONTH\"] = df[\"CRS_DEP_DATE\"].dt.month\n",
    "df[\"CRS_DEP_DAY\"] = df[\"CRS_DEP_DATE\"].dt.day\n",
    "df[\"CRS_DEP_DOW\"] = df[\"CRS_DEP_DATE\"].dt.dayofweek\n",
    "df[\"CRS_DEP_HOUR\"] = df[\"CRS_DEP_DATE\"].dt.hour\n",
    "\n",
    "#actual\n",
    "df[\"DEP_TIME\"] = df[\"DEP_TIME\"].astype(\"str\").apply(int_to_time)\n",
    "\n",
    "df[\"DEP_DATE\"] = pd.to_datetime(df[\"FL_DATE\"]) + pd.to_timedelta(df[\"DEP_TIME\"])\n",
    "df[\"DEP_MONTH\"] = df[\"DEP_DATE\"].dt.month\n",
    "df[\"DEP_DAY\"] = df[\"DEP_DATE\"].dt.day\n",
    "df[\"DEP_DOW\"] = df[\"DEP_DATE\"].dt.dayofweek\n",
    "df[\"DEP_HOUR\"] = df[\"DEP_DATE\"].dt.hour\n",
    "\n",
    "\n",
    "#arrival\n",
    "#crs\n",
    "df[\"CRS_ARR_TIME\"] = df[\"CRS_ARR_TIME\"].astype(\"str\").apply(int_to_time)\n",
    "\n",
    "df[\"CRS_ARR_DATE\"] = pd.to_datetime(df[\"FL_DATE\"]) + pd.to_timedelta(df[\"CRS_ARR_TIME\"])\n",
    "df[\"CRS_ARR_MONTH\"] = df[\"CRS_ARR_DATE\"].dt.month\n",
    "df[\"CRS_ARR_DAY\"] = df[\"CRS_ARR_DATE\"].dt.day\n",
    "df[\"CRS_ARR_DOW\"] = df[\"CRS_ARR_DATE\"].dt.dayofweek\n",
    "df[\"CRS_ARR_HOUR\"] = df[\"CRS_ARR_DATE\"].dt.hour\n",
    "\n",
    "#actual\n",
    "df[\"ARR_TIME\"] = df[\"ARR_TIME\"].astype(\"str\").apply(int_to_time)\n",
    "\n",
    "df[\"ARR_DATE\"] = pd.to_datetime(df[\"FL_DATE\"]) + pd.to_timedelta(df[\"ARR_TIME\"])\n",
    "df[\"ARR_MONTH\"] = df[\"ARR_DATE\"].dt.month\n",
    "df[\"ARR_DAY\"] = df[\"ARR_DATE\"].dt.day\n",
    "df[\"ARR_DOW\"] = df[\"ARR_DATE\"].dt.dayofweek\n",
    "df[\"ARR_HOUR\"] = df[\"ARR_DATE\"].dt.hour"
   ]
  },
  {
   "cell_type": "markdown",
   "metadata": {},
   "source": [
    "Cleaned up both the CRS and actual time columns under the departure and arrival features. "
   ]
  },
  {
   "cell_type": "markdown",
   "metadata": {},
   "source": [
    "## Merge the datasets"
   ]
  },
  {
   "cell_type": "code",
   "execution_count": 16,
   "metadata": {
    "ExecuteTime": {
     "end_time": "2021-06-08T13:52:11.488879Z",
     "start_time": "2021-06-08T13:50:48.313604Z"
    }
   },
   "outputs": [],
   "source": [
    "#merge datasets\n",
    "df = df.merge(operating_airline, left_on = \"OP_UNIQUE_CARRIER\", right_on = \"Code\")\n",
    "df = df.merge(cancellation_code, how = \"left\", on = \"CANCELLATION_CODE\")\n",
    "df = df.merge(airport_id[[\"Code\", \"AIRPORT_NAME\"]], left_on = \"ORIGIN_AIRPORT_ID\", right_on = \"Code\" )\n",
    "df = df.merge(airport_id[[\"Code\", \"AIRPORT_NAME\"]], left_on = \"DEST_AIRPORT_ID\", right_on = \"Code\" )\n",
    "\n",
    "df = df.rename(columns = {\"AIRPORT_NAME_x\":\"ORIGIN_AIRPORT\", \"AIRPORT_NAME_y\":\"DEST_AIRPORT\"})\n",
    "df = df.drop([\"Code_x\", \"Code_y\"], axis = 1)\n",
    "\n",
    "#filter out flight data with main passenger\n",
    "passenger_airlines = \"Alaska Airlines|Allegiant|American Airlines|Delta|Frontier Airlines|Hawaiian|JetBlue|Southwest|Spirit Air|United Air Lines\"\n",
    "\n",
    "major_airlines = df[df[\"Description\"].str.match(passenger_airlines) == True]\n",
    "\n",
    "#top 40 busiest airlines - https://en.wikipedia.org/wiki/List_of_the_busiest_airports_in_the_United_States - used IATA code\n",
    "airport_busiest = [\"ATL\", \"DFW\", \"DEN\", \"ORD\", \"LAX\", \"CLT\", \"LAS\", \"PHX\", \"MCO\", \"SEA\", \"MIA\", \"IAH\", \"FLL\", \"SFO\",\n",
    "                  \"JFK\", \"MSP\", \"EWR\", \"DTW\", \"BOS\", \"SLC\", \"PHL\", \"BWI\", \"TPA\", \"SAN\", \"MDW\", \"IAD\", \"BNA\", \"LGA\",\n",
    "                  \"DAL\", \"DCA\", \"PDX\", \"HNL\", \"HOU\", \"AUS\", \"STL\", \"RSW\", \"SMF\", \"MSY\", \"RDU\", \"SJU\"]\n",
    "\n",
    "major_airlines = major_airlines[major_airlines[\"ORIGIN\"].isin(airport_busiest)]\n",
    "major_airlines = major_airlines[major_airlines[\"DEST\"].isin(airport_busiest)]"
   ]
  },
  {
   "cell_type": "code",
   "execution_count": 17,
   "metadata": {
    "ExecuteTime": {
     "end_time": "2021-06-08T13:54:33.901655Z",
     "start_time": "2021-06-08T13:52:11.488879Z"
    }
   },
   "outputs": [],
   "source": [
    "major_airlines.to_csv(\"final.csv\", index = False)"
   ]
  },
  {
   "cell_type": "markdown",
   "metadata": {},
   "source": [
    "# References:\n",
    "\n",
    "\n",
    "1. [Data Source](https://www.transtats.bts.gov/DL_SelectFields.asp?gnoyr_VQ=FGK&QO_fu146_anzr=b0-gvzr)\n",
    "2. [Inspiration](https://fivethirtyeight.com/features/how-we-found-the-fastest-flights/)\n",
    "3. [Why is my flight delayed?](https://www.claimcompass.eu/blog/why-is-my-flight-delayed/#:~:text=According%20to%20the%20Bureau%20of,by%2015%20minutes%20or%20more.&text=Let's%20start%20with%20the%2015%20most%20frequent%20reasons%20for%20those%20delays)\n",
    "4. [Major Airlines](https://en.wikipedia.org/wiki/Major_airlines_of_the_United_States)"
   ]
  }
 ],
 "metadata": {
  "kernelspec": {
   "display_name": "Python 3",
   "language": "python",
   "name": "python3"
  },
  "language_info": {
   "codemirror_mode": {
    "name": "ipython",
    "version": 3
   },
   "file_extension": ".py",
   "mimetype": "text/x-python",
   "name": "python",
   "nbconvert_exporter": "python",
   "pygments_lexer": "ipython3",
   "version": "3.6.3"
  }
 },
 "nbformat": 4,
 "nbformat_minor": 2
}
