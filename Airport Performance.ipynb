{
 "cells": [
  {
   "cell_type": "markdown",
   "metadata": {},
   "source": [
    "# Why's My Airplane Late?\n",
    "\n",
    "COVID has finally started slowing down with people going out without any face masks, partying at some tightly closed place while Dua Lipa's Levitate is being played really loudly, and some are even planning to travel. But one thing that's really problematic about airports are delayed flights. Everybody hates them and it somehow tries to track you and let you stay at the airport for an additional hour. Now let's see how we can minimize the chances of a delayed flight.\n",
    "\n",
    "Do take note that I only focused on [mainline passenger airlines](https://en.wikipedia.org/wiki/Major_airlines_of_the_United_States). So if any of you here, ride a bomber airplane to your destination, sorry bro, don't even bother reading this."
   ]
  },
  {
   "cell_type": "code",
   "execution_count": 1,
   "metadata": {
    "ExecuteTime": {
     "end_time": "2021-06-13T13:19:44.339610Z",
     "start_time": "2021-06-13T13:18:42.718567Z"
    }
   },
   "outputs": [],
   "source": [
    "#import libraries\n",
    "import pandas as pd\n",
    "import numpy as np\n",
    "\n",
    "import matplotlib.pyplot as plt\n",
    "%matplotlib inline\n",
    "plt.style.use(\"ggplot\")\n",
    "\n",
    "#load data\n",
    "major_airlines = pd.read_csv(\"final.csv\")"
   ]
  },
  {
   "cell_type": "markdown",
   "metadata": {},
   "source": [
    "## Can someone please tell me when the airplane will arrive?"
   ]
  },
  {
   "cell_type": "code",
   "execution_count": 2,
   "metadata": {
    "ExecuteTime": {
     "end_time": "2021-06-13T13:19:44.653144Z",
     "start_time": "2021-06-13T13:19:44.343600Z"
    }
   },
   "outputs": [
    {
     "data": {
      "text/plain": [
       "DEP_DEL15  ARR_DEL15\n",
       "0.0        0.0          2437701\n",
       "1.0        1.0           606913\n",
       "dtype: int64"
      ]
     },
     "execution_count": 2,
     "metadata": {},
     "output_type": "execute_result"
    }
   ],
   "source": [
    "major_airlines.groupby([\"DEP_DEL15\", \"ARR_DEL15\"]).size()"
   ]
  },
  {
   "cell_type": "markdown",
   "metadata": {},
   "source": [
    "Sad to say but when your flight departure is late by atleast 15 minutes, it is guaranteed you will arrive late regardless of destination."
   ]
  },
  {
   "cell_type": "code",
   "execution_count": 3,
   "metadata": {
    "ExecuteTime": {
     "end_time": "2021-06-13T13:19:48.464553Z",
     "start_time": "2021-06-13T13:19:44.655139Z"
    }
   },
   "outputs": [],
   "source": [
    "#departed late\n",
    "dep_delay = major_airlines.groupby(\"ORIGIN_AIRPORT\").agg({\"DEP_DEL15\": [\"count\", \"sum\"]}).reset_index()\n",
    "dep_delay.columns = [\"Airport\", \"Total Flights\", \"Delayed Flight\"]\n",
    "\n",
    "dep_delay[\"% Delayed Flight\"] = dep_delay[\"Delayed Flight\"]/dep_delay[\"Total Flights\"]*100\n",
    "\n",
    "#arrived late\n",
    "arr_delay = major_airlines.groupby(\"DEST_AIRPORT\").agg({\"ARR_DEL15\": [\"count\", \"sum\"]}).reset_index()\n",
    "arr_delay.columns = [\"Airport\", \"Total Flights\", \"Delayed Flights\"]\n",
    "\n",
    "arr_delay[\"% Arrived Late\"] = arr_delay[\"Delayed Flights\"]/arr_delay[\"Total Flights\"]*100\n",
    "\n",
    "#merged dataset\n",
    "late_flights = dep_delay[[\"Airport\", \"% Delayed Flight\"]].merge(arr_delay[[\"Airport\", \"% Arrived Late\"]], on = \"Airport\")"
   ]
  },
  {
   "cell_type": "code",
   "execution_count": 4,
   "metadata": {
    "ExecuteTime": {
     "end_time": "2021-06-13T13:19:48.476522Z",
     "start_time": "2021-06-13T13:19:48.468552Z"
    }
   },
   "outputs": [
    {
     "name": "stdout",
     "output_type": "stream",
     "text": [
      "In average 19.39% of flights departed late. While 19.72% of the flight did not arrive on time.\n"
     ]
    }
   ],
   "source": [
    "print(\"In average {:.2f}% of flights departed late. While {:.2f}% of the flight did not arrive on time.\".format(dep_delay[\"% Delayed Flight\"].mean(),\n",
    "                                                                                                arr_delay[\"% Arrived Late\"].mean()))"
   ]
  },
  {
   "cell_type": "code",
   "execution_count": 5,
   "metadata": {
    "ExecuteTime": {
     "end_time": "2021-06-13T13:19:49.914237Z",
     "start_time": "2021-06-13T13:19:48.480538Z"
    }
   },
   "outputs": [
    {
     "name": "stdout",
     "output_type": "stream",
     "text": [
      "On average, when a flight is delayed, expect to arrive by 39 minutes more than your scheduled flight arrival time.\n"
     ]
    }
   ],
   "source": [
    "dep_delmin = major_airlines.groupby([\"ORIGIN_AIRPORT\", \"DEP_DEL15\"]).agg({\"DEP_DELAY\":\"median\"}).reset_index()\n",
    "arr_delmin = major_airlines.groupby([\"DEST_AIRPORT\", \"ARR_DEL15\"]).agg({\"ARR_DELAY\":\"median\"}).reset_index()\n",
    "\n",
    "print(\"On average, when a flight is delayed, expect to arrive by {:.0f} minutes more than your scheduled flight arrival time.\"\\\n",
    "      .format(arr_delmin[arr_delmin[\"ARR_DEL15\"] == 1][\"ARR_DELAY\"].median()))"
   ]
  },
  {
   "cell_type": "markdown",
   "metadata": {},
   "source": [
    "## Why are the flights delayed?"
   ]
  },
  {
   "cell_type": "code",
   "execution_count": 6,
   "metadata": {
    "ExecuteTime": {
     "end_time": "2021-06-13T13:19:50.812591Z",
     "start_time": "2021-06-13T13:19:49.916231Z"
    }
   },
   "outputs": [],
   "source": [
    "del_reason = major_airlines[major_airlines[\"DEP_DEL15\"] == 1][[\"DEP_DELAY\", \"ARR_DELAY\",\"CARRIER_DELAY\", \"WEATHER_DELAY\", \"NAS_DELAY\", \"SECURITY_DELAY\", \"LATE_AIRCRAFT_DELAY\"]]\n",
    "\n",
    "del_reason[\"CARRIER_encode\"] = np.where(del_reason[\"CARRIER_DELAY\"] > 0, 1, 0)\n",
    "del_reason[\"WEATHER_encode\"] = np.where(del_reason[\"WEATHER_DELAY\"] > 0, 1, 0)\n",
    "del_reason[\"NAS_encode\"] = np.where(del_reason[\"NAS_DELAY\"] > 0, 1, 0)\n",
    "del_reason[\"SECURITY_encode\"] = np.where(del_reason[\"SECURITY_DELAY\"] > 0, 1, 0)\n",
    "del_reason[\"LATE_AIRCRAFT_encode\"] = np.where(del_reason[\"LATE_AIRCRAFT_DELAY\"] > 0, 1, 0)"
   ]
  },
  {
   "cell_type": "code",
   "execution_count": 7,
   "metadata": {
    "ExecuteTime": {
     "end_time": "2021-06-13T13:19:50.851575Z",
     "start_time": "2021-06-13T13:19:50.814584Z"
    }
   },
   "outputs": [],
   "source": [
    "reason = [\"Carrier\", \"Weather\", \"NAS\", \"Security\", \"Late Aircraft\"]\n",
    "percentage = [del_reason[\"CARRIER_encode\"].sum()/del_reason.shape[0]*100,\n",
    "             del_reason[\"WEATHER_encode\"].sum()/del_reason.shape[0]*100,\n",
    "             del_reason[\"NAS_encode\"].sum()/del_reason.shape[0]*100,\n",
    "             del_reason[\"SECURITY_encode\"].sum()/del_reason.shape[0]*100,\n",
    "             del_reason[\"LATE_AIRCRAFT_encode\"].sum()/del_reason.shape[0]*100]\n",
    "\n",
    "dataframe = {\"Reason\":reason, \"Percentage\":percentage}"
   ]
  },
  {
   "cell_type": "code",
   "execution_count": 8,
   "metadata": {
    "ExecuteTime": {
     "end_time": "2021-06-13T13:19:51.164580Z",
     "start_time": "2021-06-13T13:19:50.853568Z"
    }
   },
   "outputs": [
    {
     "data": {
      "image/png": "[encoded data removed]",
      "text/plain": [
       "<Figure size 432x288 with 1 Axes>"
      ]
     },
     "metadata": {
      "needs_background": "light"
     },
     "output_type": "display_data"
    }
   ],
   "source": [
    "pd.DataFrame.from_dict(dataframe).sort_values(\"Percentage\").plot(kind = \"barh\", \n",
    "                                                            y = \"Percentage\", x = \"Reason\", \n",
    "                                                            legend = False, color = [\"crimson\"])\n",
    "plt.ylabel(\"\")\n",
    "plt.xlabel(\"Percent\")\n",
    "plt.suptitle(\"Reasons of Delay\", fontsize = 15);"
   ]
  },
  {
   "cell_type": "markdown",
   "metadata": {},
   "source": [
    "There are 3 main reasons why the flight is delayed which are the following:\n",
    "\n",
    "1. National Aviation System (NAS) - Localized problems of the airport \n",
    "    1. Non-extreme weather conditions\n",
    "    2. Airport operations\n",
    "    3. Heavy traffic volume\n",
    "    4. Air traffic control\n",
    "2. Carrier - anything related to the airline\n",
    "    1. Maintenance\n",
    "    2. Crew Problems\n",
    "    3. Aircraft cleaning\n",
    "    4. Baggage loading\n",
    "    5. Fueling\n",
    "3. Late aircraft - the airplane arrived longer than expected\n",
    "\n",
    "Given that these problems can happen simulataneously, there's not much we can do as passengers. But one thing we can control of is the airline and the time!"
   ]
  },
  {
   "cell_type": "markdown",
   "metadata": {},
   "source": [
    "## Which time can we minimize delays?"
   ]
  },
  {
   "cell_type": "code",
   "execution_count": 9,
   "metadata": {
    "ExecuteTime": {
     "end_time": "2021-06-13T13:19:51.171561Z",
     "start_time": "2021-06-13T13:19:51.166574Z"
    }
   },
   "outputs": [],
   "source": [
    "def risk_category(dataframe, percent_delay):\n",
    "    condlist = [dataframe[percent_delay] < 12,\n",
    "           (dataframe[percent_delay] >= 12) & (dataframe[percent_delay] < 20),\n",
    "           dataframe[percent_delay] >= 20]\n",
    "    choicelist = [1,2,3]\n",
    "\n",
    "    return np.select(condlist, choicelist)\n"
   ]
  },
  {
   "cell_type": "code",
   "execution_count": 10,
   "metadata": {
    "ExecuteTime": {
     "end_time": "2021-06-13T13:19:52.088725Z",
     "start_time": "2021-06-13T13:19:51.177544Z"
    }
   },
   "outputs": [
    {
     "data": {
      "image/png": "[encoded data removed]",
      "text/plain": [
       "<Figure size 864x432 with 2 Axes>"
      ]
     },
     "metadata": {
      "needs_background": "light"
     },
     "output_type": "display_data"
    }
   ],
   "source": [
    "#hour\n",
    "hour_delay = major_airlines.groupby(\"CRS_ARR_HOUR\").agg({\"ARR_DEL15\":[\"sum\"], \"DEP_DEL15\":[\"sum\"], \"CRS_ARR_HOUR\":[\"count\"]}).reset_index()\n",
    "hour_delay.columns = [\"CRS_ARR_HOUR\", \"ARR DEL FLIGHTS\", \"DEP DEL FLIGHTS\", \"TOTAL FLIGHTS\"]\n",
    "\n",
    "hour_delay[\"% Late Flights\"] = hour_delay[\"DEP DEL FLIGHTS\"]/hour_delay[\"TOTAL FLIGHTS\"]*100\n",
    "\n",
    "hour_delay[\"late category\"] = risk_category(hour_delay, \"% Late Flights\") #categorize % late by category\n",
    "\n",
    "#month\n",
    "month_delay = major_airlines.groupby(\"ARR_MONTH\").agg({\"ARR_DEL15\":[\"sum\"], \"DEP_DEL15\":[\"sum\"], \"CRS_ARR_HOUR\":[\"count\"]}).reset_index()\n",
    "month_delay.columns = [\"ARR_MONTH\", \"ARR DEL FLIGHTS\", \"DEP DEL FLIGHTS\", \"TOTAL FLIGHTS\"]\n",
    "\n",
    "month_delay[\"% Late Flights\"] = hour_delay[\"DEP DEL FLIGHTS\"]/hour_delay[\"TOTAL FLIGHTS\"]*100\n",
    "\n",
    "#categorize % late by category\n",
    "month_delay[\"late category\"] = risk_category(month_delay, \"% Late Flights\")\n",
    "\n",
    "#plotting\n",
    "fig, (ax1, ax2) = plt.subplots(ncols = 2, figsize =  (12, 6))\n",
    "\n",
    "month_delay.plot(kind = \"bar\", x = \"ARR_MONTH\", y = \"late category\", \n",
    "                color = 'orangered', legend = False, ax = ax1)\n",
    "\n",
    "ax1.set_title(\"% Late Flights Arrived\", fontsize = 15)\n",
    "ax1.set_ylabel(\"Risk of Late Arrival\")\n",
    "ax1.set_xlabel(\"Month\")\n",
    "ax1.set_yticks([1,2,3])\n",
    "ax1.set_yticklabels([\"Low\", \"Medium\", \"High\"])\n",
    "\n",
    "\n",
    "hour_delay.plot(kind = \"bar\", x = \"CRS_ARR_HOUR\", y = \"late category\", \n",
    "                color = 'orangered', legend = False, ax = ax2)\n",
    "\n",
    "ax2.set_title(\"% Late Flights Arrived\", fontsize = 15)\n",
    "ax2.set_ylabel(\"Risk of Late Arrival\")\n",
    "ax2.set_xlabel(\"Hour\")\n",
    "ax2.set_yticks([1,2,3])\n",
    "ax2.set_yticklabels([\"Low\", \"Medium\", \"High\"])\n",
    "\n",
    "\n",
    "plt.tight_layout()"
   ]
  },
  {
   "cell_type": "markdown",
   "metadata": {},
   "source": [
    "I've categorized the risk of late arrival as follows:\n",
    "1. If the percentage of late arrivals are above 20% then it's considered high\n",
    "2. Anything between 15% but less than 20% is medium.\n",
    "3. Anything less than 12% is low risk.\n",
    "\n",
    "Buying a ticket during August to October, generally has low risk of late arrival, and you can further minimize that when schedule your flight between 7AM and 9AM."
   ]
  },
  {
   "cell_type": "markdown",
   "metadata": {},
   "source": [
    "## Which airline to pick?"
   ]
  },
  {
   "cell_type": "code",
   "execution_count": 11,
   "metadata": {
    "ExecuteTime": {
     "end_time": "2021-06-13T13:19:52.609008Z",
     "start_time": "2021-06-13T13:19:52.090719Z"
    }
   },
   "outputs": [
    {
     "data": {
      "image/png": "[encoded data removed]",
      "text/plain": [
       "<Figure size 432x288 with 1 Axes>"
      ]
     },
     "metadata": {
      "needs_background": "light"
     },
     "output_type": "display_data"
    }
   ],
   "source": [
    "#best and worst airlines\n",
    "passenger_airlines = major_airlines.groupby(\"Description\").agg({\"ARR_DEL15\":[\"count\",\"sum\"]}).reset_index()\n",
    "passenger_airlines.columns = [\"Airline\", \"Total Flights\", \"Late Flights\"]\n",
    "\n",
    "passenger_airlines[\"% Late Flights\"] = passenger_airlines[\"Late Flights\"]/passenger_airlines[\"Total Flights\"]*100\n",
    "passenger_airlines[\"late category\"] = risk_category(passenger_airlines, \"% Late Flights\")\n",
    "\n",
    "\n",
    "passenger_airlines.sort_values(\"% Late Flights\").plot(kind = \"barh\", x = \"Airline\", y = \"late category\",\n",
    "                                                      legend = False, color = \"slateblue\")\n",
    "\n",
    "plt.xticks([1,2,3], [\"Low\", \"Medium\", \"High\"])\n",
    "plt.ylabel(\"\")\n",
    "plt.xlabel(\"% Late Flights\")\n",
    "plt.title(\"Best and Worst Airlines\", fontsize = 15)\n",
    "\n",
    "plt.tight_layout()"
   ]
  },
  {
   "cell_type": "markdown",
   "metadata": {},
   "source": [
    "You may save a lot from Allegiant Air, and Frontier Airlines, but it sacrifices a lot by being late by more than 25% of the time! Trash on Delta Airlines all you want, with its seats made for babies, but at least they arrive on time."
   ]
  },
  {
   "cell_type": "markdown",
   "metadata": {},
   "source": [
    "## How is the airport doing?"
   ]
  },
  {
   "cell_type": "code",
   "execution_count": 13,
   "metadata": {
    "ExecuteTime": {
     "end_time": "2021-06-13T13:21:07.976182Z",
     "start_time": "2021-06-13T13:21:07.601469Z"
    }
   },
   "outputs": [
    {
     "data": {
      "image/png": "[encoded data removed]",
      "text/plain": [
       "<Figure size 864x360 with 2 Axes>"
      ]
     },
     "metadata": {
      "needs_background": "light"
     },
     "output_type": "display_data"
    }
   ],
   "source": [
    "airport_perf = pd.concat([late_flights.sort_values(\"% Delayed Flight\").head(), late_flights.sort_values(\"% Delayed Flight\").tail()])\n",
    "airport_perf[\"Category Delay\"] = risk_category(airport_perf, \"% Delayed Flight\")\n",
    "airport_perf[\"Category Arrive\"] = risk_category(airport_perf, \"% Arrived Late\")\n",
    "\n",
    "\n",
    "fig, (ax1, ax2) = plt.subplots(ncols = 2, figsize = (12, 5))\n",
    "\n",
    "airport_perf.plot(kind = \"barh\", x = \"Airport\", y = \"Category Delay\", legend = False, ax = ax1, color = \"chocolate\")\n",
    "ax1.set_title(\"Departure\", fontsize = 15)\n",
    "#ax1.set_xticks(np.arange(0, 31, 5))\n",
    "ax1.set_xticks([1,2,3])\n",
    "ax1.set_xticklabels([\"Low\", \"Medium\", \"High\"])\n",
    "ax1.set_ylabel(\"\")\n",
    "ax1.set_xlabel(\"% Departed Late\")\n",
    "\n",
    "airport_arr = pd.concat([late_flights.sort_values(\"% Arrived Late\").head(), late_flights.sort_values(\"% Arrived Late\").tail()])\n",
    "airport_arr[\"Category Delay\"] = risk_category(airport_arr, \"% Delayed Flight\")\n",
    "airport_arr[\"Category Arrive\"] = risk_category(airport_arr, \"% Arrived Late\")\n",
    "\n",
    "airport_arr.plot(kind = \"barh\", x = \"Airport\", y = \"Category Arrive\", legend = False, ax = ax2, color = \"chocolate\")\n",
    "ax2.set_title(\"Arrival\", fontsize = 15)\n",
    "ax2.set_xticks([1,2,3])\n",
    "ax2.set_xticklabels([\"Low\", \"Medium\", \"High\"])\n",
    "ax2.set_ylabel(\"\")\n",
    "ax2.set_xlabel(\"% Arrived Late\")\n",
    "\n",
    "plt.suptitle(\"Airport Performance\", fontsize = 15, y = 1.05)\n",
    "plt.tight_layout()"
   ]
  },
  {
   "cell_type": "markdown",
   "metadata": {},
   "source": [
    "If you're going in or departing from Newark Liberty, you're most definitely going to have a bad time with almost 30% of their flights arrive and depart late. Best airport that's consistently great is in Salt Lake city, with percentage of late departure and arrival is just above 15%.\n",
    "\n",
    "Note: The graph is broken down by top 10 airports, where the first 5 are the worst and the last 5 are airlines that have the least delays."
   ]
  },
  {
   "cell_type": "markdown",
   "metadata": {},
   "source": [
    "## Why does it feel like that my flights are always delayed?"
   ]
  },
  {
   "cell_type": "code",
   "execution_count": 14,
   "metadata": {
    "ExecuteTime": {
     "end_time": "2021-06-13T13:21:11.808471Z",
     "start_time": "2021-06-13T13:21:11.037477Z"
    }
   },
   "outputs": [],
   "source": [
    "routes = major_airlines.groupby([\"ORIGIN_AIRPORT\", \"DEST_AIRPORT\"]).agg({\"ARR_DEL15\":[\"sum\", \"count\"]}).reset_index()\n",
    "routes.columns = [\"ORIGIN_AIRPORT\", \"DEST_AIRPORT\", \"DELAYED_FLIGHTS\", \"TOTAL_FLIGHTS\"]\n",
    "\n",
    "routes[\"% LATE ARRIVAL\"] = routes[\"DELAYED_FLIGHTS\"]/routes[\"TOTAL_FLIGHTS\"]*100\n",
    "routes[\"Arrival Category\"] = risk_category(routes, \"% LATE ARRIVAL\")"
   ]
  },
  {
   "cell_type": "code",
   "execution_count": 15,
   "metadata": {
    "ExecuteTime": {
     "end_time": "2021-06-13T13:21:14.151835Z",
     "start_time": "2021-06-13T13:21:14.144855Z"
    }
   },
   "outputs": [
    {
     "name": "stdout",
     "output_type": "stream",
     "text": [
      "There's only 7.80% of the flight routes that have a low risk of arriving late.\n"
     ]
    }
   ],
   "source": [
    "print(\"There's only {:.2f}% of the flight routes that have a low risk of arriving late.\".format(routes[routes[\"Arrival Category\"] == 1].shape[0]/routes.shape[0]*100))"
   ]
  },
  {
   "cell_type": "code",
   "execution_count": 16,
   "metadata": {
    "ExecuteTime": {
     "end_time": "2021-06-13T13:21:20.330453Z",
     "start_time": "2021-06-13T13:21:20.253457Z"
    }
   },
   "outputs": [
    {
     "data": {
      "text/html": [
       "<div>\n",
       "<style scoped>\n",
       "    .dataframe tbody tr th:only-of-type {\n",
       "        vertical-align: middle;\n",
       "    }\n",
       "\n",
       "    .dataframe tbody tr th {\n",
       "        vertical-align: top;\n",
       "    }\n",
       "\n",
       "    .dataframe thead th {\n",
       "        text-align: right;\n",
       "    }\n",
       "</style>\n",
       "<table border=\"1\" class=\"dataframe\">\n",
       "  <thead>\n",
       "    <tr style=\"text-align: right;\">\n",
       "      <th></th>\n",
       "      <th>ORIGIN_AIRPORT</th>\n",
       "      <th>DEST_AIRPORT</th>\n",
       "      <th>% LATE ARRIVAL</th>\n",
       "      <th>Arrival Category</th>\n",
       "    </tr>\n",
       "  </thead>\n",
       "  <tbody>\n",
       "    <tr>\n",
       "      <th>937</th>\n",
       "      <td>Portland International</td>\n",
       "      <td>St Louis Lambert International</td>\n",
       "      <td>2.770083</td>\n",
       "      <td>1</td>\n",
       "    </tr>\n",
       "    <tr>\n",
       "      <th>327</th>\n",
       "      <td>Detroit Metro Wayne County</td>\n",
       "      <td>Sacramento International</td>\n",
       "      <td>3.289474</td>\n",
       "      <td>1</td>\n",
       "    </tr>\n",
       "    <tr>\n",
       "      <th>1010</th>\n",
       "      <td>Sacramento International</td>\n",
       "      <td>Austin - Bergstrom International</td>\n",
       "      <td>3.790087</td>\n",
       "      <td>1</td>\n",
       "    </tr>\n",
       "    <tr>\n",
       "      <th>1091</th>\n",
       "      <td>San Diego International</td>\n",
       "      <td>Los Angeles International</td>\n",
       "      <td>4.942966</td>\n",
       "      <td>1</td>\n",
       "    </tr>\n",
       "    <tr>\n",
       "      <th>1268</th>\n",
       "      <td>Tampa International</td>\n",
       "      <td>Salt Lake City International</td>\n",
       "      <td>5.782313</td>\n",
       "      <td>1</td>\n",
       "    </tr>\n",
       "    <tr>\n",
       "      <th>933</th>\n",
       "      <td>Portland International</td>\n",
       "      <td>Salt Lake City International</td>\n",
       "      <td>5.931373</td>\n",
       "      <td>1</td>\n",
       "    </tr>\n",
       "    <tr>\n",
       "      <th>1065</th>\n",
       "      <td>Salt Lake City International</td>\n",
       "      <td>Raleigh-Durham International</td>\n",
       "      <td>6.012658</td>\n",
       "      <td>1</td>\n",
       "    </tr>\n",
       "    <tr>\n",
       "      <th>1073</th>\n",
       "      <td>Salt Lake City International</td>\n",
       "      <td>Tampa International</td>\n",
       "      <td>6.462585</td>\n",
       "      <td>1</td>\n",
       "    </tr>\n",
       "    <tr>\n",
       "      <th>1021</th>\n",
       "      <td>Sacramento International</td>\n",
       "      <td>Hartsfield-Jackson Atlanta International</td>\n",
       "      <td>6.633166</td>\n",
       "      <td>1</td>\n",
       "    </tr>\n",
       "    <tr>\n",
       "      <th>245</th>\n",
       "      <td>Daniel K Inouye International</td>\n",
       "      <td>Hartsfield-Jackson Atlanta International</td>\n",
       "      <td>6.779661</td>\n",
       "      <td>1</td>\n",
       "    </tr>\n",
       "  </tbody>\n",
       "</table>\n",
       "</div>"
      ],
      "text/plain": [
       "                      ORIGIN_AIRPORT  \\\n",
       "937           Portland International   \n",
       "327       Detroit Metro Wayne County   \n",
       "1010        Sacramento International   \n",
       "1091         San Diego International   \n",
       "1268             Tampa International   \n",
       "933           Portland International   \n",
       "1065    Salt Lake City International   \n",
       "1073    Salt Lake City International   \n",
       "1021        Sacramento International   \n",
       "245    Daniel K Inouye International   \n",
       "\n",
       "                                   DEST_AIRPORT  % LATE ARRIVAL  \\\n",
       "937              St Louis Lambert International        2.770083   \n",
       "327                    Sacramento International        3.289474   \n",
       "1010           Austin - Bergstrom International        3.790087   \n",
       "1091                  Los Angeles International        4.942966   \n",
       "1268               Salt Lake City International        5.782313   \n",
       "933                Salt Lake City International        5.931373   \n",
       "1065               Raleigh-Durham International        6.012658   \n",
       "1073                        Tampa International        6.462585   \n",
       "1021   Hartsfield-Jackson Atlanta International        6.633166   \n",
       "245    Hartsfield-Jackson Atlanta International        6.779661   \n",
       "\n",
       "      Arrival Category  \n",
       "937                  1  \n",
       "327                  1  \n",
       "1010                 1  \n",
       "1091                 1  \n",
       "1268                 1  \n",
       "933                  1  \n",
       "1065                 1  \n",
       "1073                 1  \n",
       "1021                 1  \n",
       "245                  1  "
      ]
     },
     "execution_count": 16,
     "metadata": {},
     "output_type": "execute_result"
    }
   ],
   "source": [
    "routes[routes[\"TOTAL_FLIGHTS\"] > 100].sort_values(\"% LATE ARRIVAL\")[[\"ORIGIN_AIRPORT\",\"DEST_AIRPORT\", \"% LATE ARRIVAL\", \"Arrival Category\"]].head(10)"
   ]
  },
  {
   "cell_type": "markdown",
   "metadata": {},
   "source": [
    "There are over a 104 routes, about 8% of the flights, that has a low chance of arriving late. The flights listed above have less than 7% chance of arriving late."
   ]
  },
  {
   "cell_type": "code",
   "execution_count": 19,
   "metadata": {
    "ExecuteTime": {
     "end_time": "2021-06-13T13:22:18.899404Z",
     "start_time": "2021-06-13T13:22:18.893386Z"
    }
   },
   "outputs": [
    {
     "name": "stdout",
     "output_type": "stream",
     "text": [
      "However there's over 42.88% of the flight routes that have a high risk of arriving late.\n"
     ]
    }
   ],
   "source": [
    "print(\"However there's over {:.2f}% of the flight routes that have a high risk of arriving late.\".format(\n",
    "routes[routes[\"Arrival Category\"] == 3].shape[0]/routes.shape[0]*100))"
   ]
  },
  {
   "cell_type": "code",
   "execution_count": 18,
   "metadata": {
    "ExecuteTime": {
     "end_time": "2021-06-13T13:21:26.962421Z",
     "start_time": "2021-06-13T13:21:26.946423Z"
    }
   },
   "outputs": [
    {
     "data": {
      "text/html": [
       "<div>\n",
       "<style scoped>\n",
       "    .dataframe tbody tr th:only-of-type {\n",
       "        vertical-align: middle;\n",
       "    }\n",
       "\n",
       "    .dataframe tbody tr th {\n",
       "        vertical-align: top;\n",
       "    }\n",
       "\n",
       "    .dataframe thead th {\n",
       "        text-align: right;\n",
       "    }\n",
       "</style>\n",
       "<table border=\"1\" class=\"dataframe\">\n",
       "  <thead>\n",
       "    <tr style=\"text-align: right;\">\n",
       "      <th></th>\n",
       "      <th>ORIGIN_AIRPORT</th>\n",
       "      <th>DEST_AIRPORT</th>\n",
       "      <th>% LATE ARRIVAL</th>\n",
       "      <th>Arrival Category</th>\n",
       "    </tr>\n",
       "  </thead>\n",
       "  <tbody>\n",
       "    <tr>\n",
       "      <th>597</th>\n",
       "      <td>Louis Armstrong New Orleans International</td>\n",
       "      <td>Phoenix Sky Harbor International</td>\n",
       "      <td>34.096110</td>\n",
       "      <td>3</td>\n",
       "    </tr>\n",
       "    <tr>\n",
       "      <th>619</th>\n",
       "      <td>Luis Munoz Marin International</td>\n",
       "      <td>Logan International</td>\n",
       "      <td>34.684685</td>\n",
       "      <td>3</td>\n",
       "    </tr>\n",
       "    <tr>\n",
       "      <th>719</th>\n",
       "      <td>Minneapolis-St Paul International</td>\n",
       "      <td>Newark Liberty International</td>\n",
       "      <td>34.688691</td>\n",
       "      <td>3</td>\n",
       "    </tr>\n",
       "    <tr>\n",
       "      <th>122</th>\n",
       "      <td>Chicago Midway International</td>\n",
       "      <td>Newark Liberty International</td>\n",
       "      <td>34.855305</td>\n",
       "      <td>3</td>\n",
       "    </tr>\n",
       "    <tr>\n",
       "      <th>148</th>\n",
       "      <td>Chicago O'Hare International</td>\n",
       "      <td>John F. Kennedy International</td>\n",
       "      <td>35.251799</td>\n",
       "      <td>3</td>\n",
       "    </tr>\n",
       "    <tr>\n",
       "      <th>246</th>\n",
       "      <td>Daniel K Inouye International</td>\n",
       "      <td>John F. Kennedy International</td>\n",
       "      <td>36.533333</td>\n",
       "      <td>3</td>\n",
       "    </tr>\n",
       "    <tr>\n",
       "      <th>380</th>\n",
       "      <td>George Bush Intercontinental/Houston</td>\n",
       "      <td>John F. Kennedy International</td>\n",
       "      <td>37.172775</td>\n",
       "      <td>3</td>\n",
       "    </tr>\n",
       "    <tr>\n",
       "      <th>795</th>\n",
       "      <td>Newark Liberty International</td>\n",
       "      <td>Sacramento International</td>\n",
       "      <td>39.147287</td>\n",
       "      <td>3</td>\n",
       "    </tr>\n",
       "    <tr>\n",
       "      <th>254</th>\n",
       "      <td>Daniel K Inouye International</td>\n",
       "      <td>Sacramento International</td>\n",
       "      <td>40.287770</td>\n",
       "      <td>3</td>\n",
       "    </tr>\n",
       "    <tr>\n",
       "      <th>626</th>\n",
       "      <td>Luis Munoz Marin International</td>\n",
       "      <td>Ronald Reagan Washington National</td>\n",
       "      <td>43.287671</td>\n",
       "      <td>3</td>\n",
       "    </tr>\n",
       "  </tbody>\n",
       "</table>\n",
       "</div>"
      ],
      "text/plain": [
       "                                 ORIGIN_AIRPORT  \\\n",
       "597   Louis Armstrong New Orleans International   \n",
       "619              Luis Munoz Marin International   \n",
       "719           Minneapolis-St Paul International   \n",
       "122                Chicago Midway International   \n",
       "148                Chicago O'Hare International   \n",
       "246               Daniel K Inouye International   \n",
       "380        George Bush Intercontinental/Houston   \n",
       "795                Newark Liberty International   \n",
       "254               Daniel K Inouye International   \n",
       "626              Luis Munoz Marin International   \n",
       "\n",
       "                           DEST_AIRPORT  % LATE ARRIVAL  Arrival Category  \n",
       "597    Phoenix Sky Harbor International       34.096110                 3  \n",
       "619                 Logan International       34.684685                 3  \n",
       "719        Newark Liberty International       34.688691                 3  \n",
       "122        Newark Liberty International       34.855305                 3  \n",
       "148       John F. Kennedy International       35.251799                 3  \n",
       "246       John F. Kennedy International       36.533333                 3  \n",
       "380       John F. Kennedy International       37.172775                 3  \n",
       "795            Sacramento International       39.147287                 3  \n",
       "254            Sacramento International       40.287770                 3  \n",
       "626   Ronald Reagan Washington National       43.287671                 3  "
      ]
     },
     "execution_count": 18,
     "metadata": {},
     "output_type": "execute_result"
    }
   ],
   "source": [
    "routes[routes[\"TOTAL_FLIGHTS\"] > 100].sort_values(\"% LATE ARRIVAL\")[[\"ORIGIN_AIRPORT\",\"DEST_AIRPORT\", \"% LATE ARRIVAL\", \"Arrival Category\"]].tail(10)"
   ]
  },
  {
   "cell_type": "markdown",
   "metadata": {},
   "source": [
    "While over 42% of the routes have over a high risk of arriving late. The flight routes listed above are the worst ones, which can go as high as 43%, Luis Munoz to Ronald Reagan Washington Airport.\n",
    "\n",
    "I hope this helped you with getting a better airline experience!"
   ]
  },
  {
   "cell_type": "markdown",
   "metadata": {},
   "source": [
    "# References:\n",
    "\n",
    "1. [Delay Reason Descriptions](\n",
    "https://www.bts.gov/topics/airlines-and-airports/understanding-reporting-causes-flight-delays-and-cancellations)"
   ]
  }
 ],
 "metadata": {
  "kernelspec": {
   "display_name": "Python 3",
   "language": "python",
   "name": "python3"
  },
  "language_info": {
   "codemirror_mode": {
    "name": "ipython",
    "version": 3
   },
   "file_extension": ".py",
   "mimetype": "text/x-python",
   "name": "python",
   "nbconvert_exporter": "python",
   "pygments_lexer": "ipython3",
   "version": "3.6.3"
  }
 },
 "nbformat": 4,
 "nbformat_minor": 2
}
